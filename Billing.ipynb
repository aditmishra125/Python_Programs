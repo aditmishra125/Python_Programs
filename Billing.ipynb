{
 "cells": [
  {
   "cell_type": "code",
   "execution_count": 11,
   "id": "c4963f43",
   "metadata": {},
   "outputs": [
    {
     "name": "stdout",
     "output_type": "stream",
     "text": [
      "Welcome to Burger Deliveries!\n",
      "What size of burger do you want? Small, Medium, or Large L\n",
      "Do you want mayonnaise? Y or N Y\n",
      "Do you want extra cheese? Y or N Y\n",
      "your total bill is 34\n"
     ]
    }
   ],
   "source": [
    "print(\"Welcome to Burger Deliveries!\")\n",
    "size = input(\"What size of burger do you want? Small, Medium, or Large \")\n",
    "add_mayonnaise = input(\"Do you want mayonnaise? Y or N \")\n",
    "extra_cheese = input(\"Do you want extra cheese? Y or N \")\n",
    "bill=0\n",
    "if size==\"S\": \n",
    "    bill+=15\n",
    "elif size==\"M\":\n",
    "    bill+=20\n",
    "elif size==\"L\":\n",
    "    bill+=30\n",
    "if add_mayonnaise ==\"Y\":\n",
    "    bill+=3\n",
    "if extra_cheese==\"Y\":\n",
    "    bill+=1\n",
    "print(f\"your total bill is {bill}\")"
   ]
  },
  {
   "cell_type": "code",
   "execution_count": null,
   "id": "01ccb0a7",
   "metadata": {},
   "outputs": [],
   "source": []
  },
  {
   "cell_type": "code",
   "execution_count": null,
   "id": "925fe6eb",
   "metadata": {},
   "outputs": [],
   "source": []
  }
 ],
 "metadata": {
  "kernelspec": {
   "display_name": "Python 3",
   "language": "python",
   "name": "python3"
  },
  "language_info": {
   "codemirror_mode": {
    "name": "ipython",
    "version": 3
   },
   "file_extension": ".py",
   "mimetype": "text/x-python",
   "name": "python",
   "nbconvert_exporter": "python",
   "pygments_lexer": "ipython3",
   "version": "3.8.8"
  }
 },
 "nbformat": 4,
 "nbformat_minor": 5
}
