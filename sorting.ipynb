{
 "cells": [
  {
   "cell_type": "code",
   "execution_count": 15,
   "id": "18f8c9cd",
   "metadata": {},
   "outputs": [
    {
     "name": "stdout",
     "output_type": "stream",
     "text": [
      "[1, 4, 5, 8, 12, 41, 48, 52, 75]\n"
     ]
    }
   ],
   "source": [
    "a=[5,8,4,48,52,75,41,1,12]\n",
    "b=max(a)\n",
    "a.sort()\n",
    "print(a)\n",
    "for i in a:\n",
    "    if\n"
   ]
  }
 ],
 "metadata": {
  "kernelspec": {
   "display_name": "Python 3",
   "language": "python",
   "name": "python3"
  },
  "language_info": {
   "codemirror_mode": {
    "name": "ipython",
    "version": 3
   },
   "file_extension": ".py",
   "mimetype": "text/x-python",
   "name": "python",
   "nbconvert_exporter": "python",
   "pygments_lexer": "ipython3",
   "version": "3.8.8"
  }
 },
 "nbformat": 4,
 "nbformat_minor": 5
}
