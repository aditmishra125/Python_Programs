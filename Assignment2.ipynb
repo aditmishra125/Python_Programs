{
 "cells": [
  {
   "cell_type": "code",
   "execution_count": 2,
   "id": "bebd3d3f",
   "metadata": {},
   "outputs": [
    {
     "name": "stdout",
     "output_type": "stream",
     "text": [
      "How many terms? 8\n",
      "Fibonacci sequence:\n",
      "0\n",
      "1\n",
      "1\n",
      "2\n",
      "3\n",
      "5\n",
      "8\n",
      "13\n"
     ]
    }
   ],
   "source": [
    "a = int(input(\"How many terms? \"))\n",
    "\n",
    "n1, n2 = 0, 1\n",
    "count = 0\n",
    "\n",
    "if a <= 0:\n",
    "   print(\"Please enter a positive integer\")\n",
    "elif a == 1:\n",
    "   print(\"Fibonacci sequence upto\",a,\":\")\n",
    "   print(n1)\n",
    "\n",
    "else:\n",
    "   print(\"Fibonacci sequence:\")\n",
    "   while count < a:\n",
    "       print(n1)\n",
    "       nth = n1 + n2\n",
    "       # update values\n",
    "       n1 = n2\n",
    "       n2 = nth\n",
    "       count += 1"
   ]
  },
  {
   "cell_type": "code",
   "execution_count": 3,
   "id": "7a9d7f5c",
   "metadata": {},
   "outputs": [
    {
     "name": "stdout",
     "output_type": "stream",
     "text": [
      "Enter a number: 445\n",
      "445 is not an Armstrong number\n"
     ]
    }
   ],
   "source": [
    "num = int(input(\"Enter a number: \"))  \n",
    "sum = 0  \n",
    "temp = num  \n",
    "  \n",
    "while temp > 0:  \n",
    "   digit = temp % 10  \n",
    "   sum += digit ** 3  \n",
    "   temp //= 10  \n",
    "  \n",
    "if num == sum:  \n",
    "   print(num,\"is an Armstrong number\")  \n",
    "else:  \n",
    "   print(num,\"is not an Armstrong number\")"
   ]
  },
  {
   "cell_type": "code",
   "execution_count": 4,
   "id": "c24863fa",
   "metadata": {},
   "outputs": [
    {
     "name": "stdout",
     "output_type": "stream",
     "text": [
      "Input the lower value :50\n",
      "Input the upper value :200\n",
      "153\n"
     ]
    }
   ],
   "source": [
    "lower = int(input(\"Input the lower value :\" ))\n",
    "upper = int(input(\"Input the upper value :\" ))\n",
    "\n",
    "for num in range(lower, upper + 1):\n",
    "\n",
    "   order = len(str(num))\n",
    "\n",
    "   sum = 0\n",
    "\n",
    "   temp = num\n",
    "   while temp > 0:\n",
    "       digit = temp % 10\n",
    "       sum += digit ** order\n",
    "       temp //= 10\n",
    "\n",
    "   if num == sum:\n",
    "       print(num)"
   ]
  },
  {
   "cell_type": "code",
   "execution_count": 5,
   "id": "92117d93",
   "metadata": {},
   "outputs": [
    {
     "name": "stdout",
     "output_type": "stream",
     "text": [
      "How many terms? 11\n",
      "2 raised to power 0 is 1\n",
      "2 raised to power 1 is 2\n",
      "2 raised to power 2 is 4\n",
      "2 raised to power 3 is 8\n",
      "2 raised to power 4 is 16\n",
      "2 raised to power 5 is 32\n",
      "2 raised to power 6 is 64\n",
      "2 raised to power 7 is 128\n",
      "2 raised to power 8 is 256\n",
      "2 raised to power 9 is 512\n",
      "2 raised to power 10 is 1024\n"
     ]
    }
   ],
   "source": [
    "terms = int(input(\"How many terms? \"))\n",
    "\n",
    "result = list(map(lambda x: 2 ** x, range(terms)))\n",
    " \n",
    "for i in range(terms):\n",
    "    \n",
    "   print(\"2 raised to power\",i,\"is\",result[i])\n"
   ]
  },
  {
   "cell_type": "code",
   "execution_count": 6,
   "id": "5aa1d101",
   "metadata": {},
   "outputs": [
    {
     "name": "stdout",
     "output_type": "stream",
     "text": [
      "Enter a Number (Numerator): \n",
      "55\n",
      "Enter a Number (denominator): \n",
      "11\n",
      "\n",
      "55 is divisible by 11\n"
     ]
    }
   ],
   "source": [
    "print(\"Enter a Number (Numerator): \")\n",
    "numn = int(input())\n",
    "print(\"Enter a Number (denominator): \")\n",
    "numd = int(input())\n",
    "\n",
    "if numn%numd==0:\n",
    "  print(\"\\n\" +str(numn)+ \" is divisible by \" +str(numd))\n",
    "else:\n",
    "  print(\"\\n\" +str(numn)+ \" is not divisible by \" +str(numd))"
   ]
  },
  {
   "cell_type": "code",
   "execution_count": 7,
   "id": "6b07c4d1",
   "metadata": {},
   "outputs": [
    {
     "name": "stdout",
     "output_type": "stream",
     "text": [
      "Enter the Decimal Number: \n",
      "125\n",
      "\n",
      "Equivalent Hexadecimal Value is: \n",
      "7D\n"
     ]
    }
   ],
   "source": [
    "\n",
    "print(\"Enter the Decimal Number: \")\n",
    "decnum = int(input())\n",
    "\n",
    "i = 0\n",
    "hexdecnum = []\n",
    "while decnum!=0:\n",
    "    rem = decnum % 16\n",
    "    if rem<10:\n",
    "        rem = rem+48\n",
    "    else:\n",
    "        rem = rem+55\n",
    "    rem = chr(rem)\n",
    "    hexdecnum.insert(i, rem)\n",
    "    i = i+1\n",
    "    decnum = int(decnum / 16)\n",
    "\n",
    "print(\"\\nEquivalent Hexadecimal Value is: \")\n",
    "i = i-1\n",
    "while i>=0:\n",
    "    print(end=hexdecnum[i])\n",
    "    i = i-1\n",
    "print()\n"
   ]
  },
  {
   "cell_type": "code",
   "execution_count": 8,
   "id": "6dd3910b",
   "metadata": {},
   "outputs": [
    {
     "name": "stdout",
     "output_type": "stream",
     "text": [
      "Enter a number: 15\n",
      "[-1, 1, -3, 3, -5, 5, -15, 15]\n"
     ]
    }
   ],
   "source": [
    "number = int(input(\"Enter a number: \")) \n",
    "factors = []\n",
    "\n",
    "for whole_number in range(1, number + 1):\n",
    "    if number % whole_number == 0:\n",
    "        factors.append(-whole_number)\n",
    "\n",
    "\n",
    "        factors.append(whole_number)\n",
    "\n",
    "print(factors)"
   ]
  },
  {
   "cell_type": "code",
   "execution_count": null,
   "id": "f846e628",
   "metadata": {},
   "outputs": [],
   "source": []
  }
 ],
 "metadata": {
  "kernelspec": {
   "display_name": "Python 3",
   "language": "python",
   "name": "python3"
  },
  "language_info": {
   "codemirror_mode": {
    "name": "ipython",
    "version": 3
   },
   "file_extension": ".py",
   "mimetype": "text/x-python",
   "name": "python",
   "nbconvert_exporter": "python",
   "pygments_lexer": "ipython3",
   "version": "3.8.8"
  }
 },
 "nbformat": 4,
 "nbformat_minor": 5
}
