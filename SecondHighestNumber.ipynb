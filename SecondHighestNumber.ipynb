{
 "cells": [
  {
   "cell_type": "code",
   "execution_count": 11,
   "id": "662e8609",
   "metadata": {},
   "outputs": [
    {
     "name": "stdout",
     "output_type": "stream",
     "text": [
      "[70, 40, 5, 100, 125]\n",
      "125\n"
     ]
    }
   ],
   "source": [
    "list=[70,40,5,100,250,125]\n",
    "a=max(list)\n",
    "b=list.remove(a)\n",
    "print(list)\n",
    "c=max(list)\n",
    "print(c)"
   ]
  },
  {
   "cell_type": "code",
   "execution_count": 28,
   "id": "55448073",
   "metadata": {},
   "outputs": [
    {
     "name": "stdout",
     "output_type": "stream",
     "text": [
      "Number of inputs in the list4\n",
      "Enter list elements\n",
      "7\n",
      "8\n",
      "5\n",
      "4\n",
      "[7, 8, 5, 4]\n",
      "[4, 5, 7, 8]\n",
      "Second largest number is 7\n"
     ]
    }
   ],
   "source": [
    "list=[]\n",
    "a=int(input(\"Number of inputs in the list\"))\n",
    "print(\"Enter list elements\")\n",
    "for i in range(a):\n",
    "    j=int(input())\n",
    "    list.append(j)\n",
    "print(list)\n",
    "list.sort()\n",
    "print(list)\n",
    "print(\"Second largest number is\",list[i-1])"
   ]
  },
  {
   "cell_type": "code",
   "execution_count": null,
   "id": "5f69b1da",
   "metadata": {},
   "outputs": [],
   "source": []
  }
 ],
 "metadata": {
  "kernelspec": {
   "display_name": "Python 3",
   "language": "python",
   "name": "python3"
  },
  "language_info": {
   "codemirror_mode": {
    "name": "ipython",
    "version": 3
   },
   "file_extension": ".py",
   "mimetype": "text/x-python",
   "name": "python",
   "nbconvert_exporter": "python",
   "pygments_lexer": "ipython3",
   "version": "3.8.8"
  }
 },
 "nbformat": 4,
 "nbformat_minor": 5
}
